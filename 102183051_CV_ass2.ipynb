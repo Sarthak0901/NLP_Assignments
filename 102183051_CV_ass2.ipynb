{
  "cells": [
    {
      "cell_type": "code",
      "execution_count": 65,
      "metadata": {
        "id": "7tYEH6_zYL5x"
      },
      "outputs": [],
      "source": [
        "import os\n",
        "import cv2\n",
        "import numpy as np"
      ]
    },
    {
      "cell_type": "code",
      "execution_count": 66,
      "metadata": {
        "id": "HetCAr8haMYn"
      },
      "outputs": [],
      "source": [
        "fold = ['Mohit', 'Sahil', 'Sarthak']"
      ]
    },
    {
      "cell_type": "code",
      "execution_count": 67,
      "metadata": {},
      "outputs": [
        {
          "name": "stdout",
          "output_type": "stream",
          "text": [
            "Mohit\n",
            "Sahil\n",
            "Sarthak\n"
          ]
        }
      ],
      "source": [
        "import os\n",
        "import cv2\n",
        "\n",
        "folders = [\"Mohit\", \"Sahil\", \"Sarthak\"]\n",
        "\n",
        "label = []\n",
        "images = []\n",
        "\n",
        "for i, folder in enumerate(folders):\n",
        "    print(folder)\n",
        "    for file in os.listdir(folder):\n",
        "        # load the image\n",
        "        img = cv2.imread(os.path.join(folder, file))\n",
        "        # convert to grayscale\n",
        "        #img = cv2.cvtColor(img, cv2.COLOR_BGR2GRAY)\n",
        "        # add to list\n",
        "        images.append(img)\n",
        "        label.append(i)"
      ]
    },
    {
      "cell_type": "code",
      "execution_count": 68,
      "metadata": {
        "colab": {
          "base_uri": "https://localhost:8080/"
        },
        "id": "bJIPTC8rZzPe",
        "outputId": "59f5c942-aa08-4a73-fd3a-2b8e6f6b2daa"
      },
      "outputs": [
        {
          "data": {
            "text/plain": [
              "1    10\n",
              "2     9\n",
              "0     8\n",
              "dtype: int64"
            ]
          },
          "execution_count": 68,
          "metadata": {},
          "output_type": "execute_result"
        }
      ],
      "source": [
        "import pandas as pd\n",
        "\n",
        "pd.DataFrame(label).value_counts()"
      ]
    },
    {
      "cell_type": "code",
      "execution_count": 69,
      "metadata": {
        "colab": {
          "base_uri": "https://localhost:8080/"
        },
        "id": "Do_kqLvTbPyb",
        "outputId": "8f0e311b-a20b-4634-8618-24babd005cef"
      },
      "outputs": [
        {
          "data": {
            "text/plain": [
              "array([[[209, 195, 172],\n",
              "        [212, 198, 175],\n",
              "        [212, 199, 177],\n",
              "        ...,\n",
              "        [139, 138, 142],\n",
              "        [139, 138, 142],\n",
              "        [140, 139, 143]],\n",
              "\n",
              "       [[211, 197, 174],\n",
              "        [214, 200, 177],\n",
              "        [215, 201, 179],\n",
              "        ...,\n",
              "        [142, 141, 145],\n",
              "        [145, 144, 148],\n",
              "        [146, 145, 149]],\n",
              "\n",
              "       [[213, 197, 174],\n",
              "        [215, 199, 176],\n",
              "        [217, 200, 179],\n",
              "        ...,\n",
              "        [142, 141, 145],\n",
              "        [146, 145, 149],\n",
              "        [148, 147, 151]],\n",
              "\n",
              "       ...,\n",
              "\n",
              "       [[205, 181, 145],\n",
              "        [206, 182, 146],\n",
              "        [208, 183, 149],\n",
              "        ...,\n",
              "        [ 35,  21,  22],\n",
              "        [ 38,  22,  23],\n",
              "        [ 40,  22,  23]],\n",
              "\n",
              "       [[205, 181, 145],\n",
              "        [206, 182, 146],\n",
              "        [208, 183, 149],\n",
              "        ...,\n",
              "        [ 34,  20,  21],\n",
              "        [ 36,  20,  21],\n",
              "        [ 36,  20,  21]],\n",
              "\n",
              "       [[205, 181, 145],\n",
              "        [206, 182, 146],\n",
              "        [208, 183, 149],\n",
              "        ...,\n",
              "        [ 30,  18,  18],\n",
              "        [ 32,  16,  17],\n",
              "        [ 32,  16,  17]]], dtype=uint8)"
            ]
          },
          "execution_count": 69,
          "metadata": {},
          "output_type": "execute_result"
        }
      ],
      "source": [
        "images[0]"
      ]
    },
    {
      "attachments": {},
      "cell_type": "markdown",
      "metadata": {
        "id": "ecdk8CPUqpOw"
      },
      "source": [
        "### Resize"
      ]
    },
    {
      "cell_type": "code",
      "execution_count": 70,
      "metadata": {
        "id": "RUKoJ18xqrk5"
      },
      "outputs": [],
      "source": [
        "images = [cv2.resize(img, (400, 400)) for img in images]"
      ]
    },
    {
      "cell_type": "code",
      "execution_count": 71,
      "metadata": {
        "id": "p_77eacxeANH"
      },
      "outputs": [],
      "source": [
        "images = [image/255.0 for image in images]"
      ]
    },
    {
      "cell_type": "code",
      "execution_count": 72,
      "metadata": {
        "id": "P0kwnBQpv8tw"
      },
      "outputs": [],
      "source": [
        "images = np.array(images)"
      ]
    },
    {
      "cell_type": "code",
      "execution_count": 73,
      "metadata": {
        "colab": {
          "base_uri": "https://localhost:8080/"
        },
        "id": "96fVmm5MwHJm",
        "outputId": "5d3d6a43-0c62-4f77-a572-d429681a10c3"
      },
      "outputs": [
        {
          "data": {
            "text/plain": [
              "(27, 400, 400, 3)"
            ]
          },
          "execution_count": 73,
          "metadata": {},
          "output_type": "execute_result"
        }
      ],
      "source": [
        "images.shape"
      ]
    },
    {
      "cell_type": "code",
      "execution_count": 74,
      "metadata": {
        "colab": {
          "base_uri": "https://localhost:8080/"
        },
        "id": "ZgV32XA-zCm-",
        "outputId": "3f0fcf87-1edd-4d5f-c2e8-6c30c1d83765"
      },
      "outputs": [
        {
          "data": {
            "text/plain": [
              "(400, 400, 3)"
            ]
          },
          "execution_count": 74,
          "metadata": {},
          "output_type": "execute_result"
        }
      ],
      "source": [
        "images[0].shape"
      ]
    },
    {
      "cell_type": "code",
      "execution_count": 75,
      "metadata": {
        "colab": {
          "base_uri": "https://localhost:8080/"
        },
        "id": "v2Ck35tdwLFp",
        "outputId": "b24b2c0a-598a-4755-9f94-8d09ed0c3472"
      },
      "outputs": [
        {
          "data": {
            "text/plain": [
              "(27,)"
            ]
          },
          "execution_count": 75,
          "metadata": {},
          "output_type": "execute_result"
        }
      ],
      "source": [
        "label = np.array(label)\n",
        "label.shape"
      ]
    },
    {
      "cell_type": "code",
      "execution_count": 76,
      "metadata": {
        "id": "bJbIRNOo2MiR"
      },
      "outputs": [],
      "source": [
        "def convert_to_one_hot(Y, C):\n",
        "  Y = np.eye(C)[Y.reshape(-1)]\n",
        "  return Y"
      ]
    },
    {
      "cell_type": "code",
      "execution_count": 111,
      "metadata": {
        "id": "pNrgj4c61oz_"
      },
      "outputs": [],
      "source": [
        "# from tensorflow.keras.utils import to_categorical"
      ]
    },
    {
      "cell_type": "code",
      "execution_count": 112,
      "metadata": {
        "id": "dUsTVmph14LD"
      },
      "outputs": [],
      "source": [
        "# label = to_categorical(label)"
      ]
    },
    {
      "cell_type": "code",
      "execution_count": 113,
      "metadata": {
        "id": "OhIYz_1A172K"
      },
      "outputs": [],
      "source": [
        "# label = label[:, 2:]"
      ]
    },
    {
      "cell_type": "code",
      "execution_count": 77,
      "metadata": {
        "colab": {
          "base_uri": "https://localhost:8080/"
        },
        "id": "lEzlCfwNr8uI",
        "outputId": "568d1d80-783b-44b0-cab7-4ded363bbadd"
      },
      "outputs": [
        {
          "data": {
            "text/plain": [
              "0"
            ]
          },
          "execution_count": 77,
          "metadata": {},
          "output_type": "execute_result"
        }
      ],
      "source": [
        "min(label)"
      ]
    },
    {
      "cell_type": "code",
      "execution_count": 78,
      "metadata": {
        "id": "_lOat8IBr63p"
      },
      "outputs": [],
      "source": [
        "label = label-min(label)"
      ]
    },
    {
      "cell_type": "code",
      "execution_count": 79,
      "metadata": {
        "colab": {
          "base_uri": "https://localhost:8080/"
        },
        "id": "--yj2KxYsBOW",
        "outputId": "3d7aae59-6c08-4e4e-9cb4-55b9665d15e5"
      },
      "outputs": [
        {
          "data": {
            "text/plain": [
              "array([0, 0, 0, 0, 0, 0, 0, 0, 1, 1, 1, 1, 1, 1, 1, 1, 1, 1, 2, 2, 2, 2,\n",
              "       2, 2, 2, 2, 2])"
            ]
          },
          "execution_count": 79,
          "metadata": {},
          "output_type": "execute_result"
        }
      ],
      "source": [
        "label.reshape(-1)"
      ]
    },
    {
      "cell_type": "code",
      "execution_count": 80,
      "metadata": {
        "id": "Ajr6tkY7sOvV"
      },
      "outputs": [],
      "source": [
        "label = convert_to_one_hot(label, 3)"
      ]
    },
    {
      "cell_type": "code",
      "execution_count": 81,
      "metadata": {
        "id": "cVKeeuEyv3yU"
      },
      "outputs": [],
      "source": [
        "images= images+images"
      ]
    },
    {
      "cell_type": "code",
      "execution_count": 82,
      "metadata": {
        "id": "F6byaBJKv6BY"
      },
      "outputs": [],
      "source": [
        "label = label+label"
      ]
    },
    {
      "cell_type": "code",
      "execution_count": 83,
      "metadata": {
        "id": "FBl7_OhleKjR"
      },
      "outputs": [],
      "source": [
        "import tensorflow as tf\n",
        "from tensorflow import keras\n",
        "from keras import layers as tfl"
      ]
    },
    {
      "cell_type": "code",
      "execution_count": 84,
      "metadata": {
        "id": "mdmJY9-ruJ_c"
      },
      "outputs": [],
      "source": [
        "input_shape = (400,400,3)"
      ]
    },
    {
      "cell_type": "code",
      "execution_count": 85,
      "metadata": {
        "id": "0i70KqdPeSBn"
      },
      "outputs": [],
      "source": [
        "model = keras.Sequential([\n",
        "    tfl.Conv2D(filters = 8, kernel_size = 7, strides = 1, padding = 'same', input_shape = input_shape),\n",
        "    tfl.ReLU(),\n",
        "    tfl.MaxPooling2D(pool_size = 8, strides = 8, padding = 'same'),\n",
        "    tfl.Conv2D(filters = 16, kernel_size = 2, strides = 1, padding = 'same'),\n",
        "    tfl.ReLU(),\n",
        "    tfl.MaxPooling2D(pool_size = 4, strides = 4, padding = 'same'),\n",
        "    tfl.Flatten(),\n",
        "    tfl.Dense(3, activation = 'softmax')\n",
        "])"
      ]
    },
    {
      "cell_type": "code",
      "execution_count": 86,
      "metadata": {
        "colab": {
          "base_uri": "https://localhost:8080/"
        },
        "id": "VJkKFg0Au4ls",
        "outputId": "bc5662ee-36db-422d-f111-3edee8d3c4da"
      },
      "outputs": [
        {
          "name": "stdout",
          "output_type": "stream",
          "text": [
            "Model: \"sequential_2\"\n",
            "_________________________________________________________________\n",
            " Layer (type)                Output Shape              Param #   \n",
            "=================================================================\n",
            " conv2d_4 (Conv2D)           (None, 400, 400, 8)       1184      \n",
            "                                                                 \n",
            " re_lu_4 (ReLU)              (None, 400, 400, 8)       0         \n",
            "                                                                 \n",
            " max_pooling2d_4 (MaxPooling  (None, 50, 50, 8)        0         \n",
            " 2D)                                                             \n",
            "                                                                 \n",
            " conv2d_5 (Conv2D)           (None, 50, 50, 16)        528       \n",
            "                                                                 \n",
            " re_lu_5 (ReLU)              (None, 50, 50, 16)        0         \n",
            "                                                                 \n",
            " max_pooling2d_5 (MaxPooling  (None, 13, 13, 16)       0         \n",
            " 2D)                                                             \n",
            "                                                                 \n",
            " flatten_2 (Flatten)         (None, 2704)              0         \n",
            "                                                                 \n",
            " dense_2 (Dense)             (None, 3)                 8115      \n",
            "                                                                 \n",
            "=================================================================\n",
            "Total params: 9,827\n",
            "Trainable params: 9,827\n",
            "Non-trainable params: 0\n",
            "_________________________________________________________________\n"
          ]
        }
      ],
      "source": [
        "model.summary()"
      ]
    },
    {
      "cell_type": "code",
      "execution_count": 87,
      "metadata": {
        "id": "xDveDc-Ar5sC"
      },
      "outputs": [],
      "source": [
        "model.compile(\n",
        "    optimizer='Adam',\n",
        "    metrics=['acc'],\n",
        "    loss='categorical_crossentropy'\n",
        ")"
      ]
    },
    {
      "cell_type": "code",
      "execution_count": 88,
      "metadata": {
        "id": "p2FJ-Q9DwM6G"
      },
      "outputs": [],
      "source": [
        "train_dataset = tf.data.Dataset.from_tensor_slices((images, label)).batch(4)"
      ]
    },
    {
      "cell_type": "code",
      "execution_count": 89,
      "metadata": {
        "colab": {
          "base_uri": "https://localhost:8080/"
        },
        "id": "G2xi19lZsGE5",
        "outputId": "27556e7a-dac8-43c8-e652-2bfc80f5a1eb"
      },
      "outputs": [
        {
          "name": "stdout",
          "output_type": "stream",
          "text": [
            "Epoch 1/12\n",
            "7/7 [==============================] - 3s 279ms/step - loss: 5.1213 - acc: 0.2963\n",
            "Epoch 2/12\n",
            "7/7 [==============================] - 2s 273ms/step - loss: 1.8085 - acc: 0.5556\n",
            "Epoch 3/12\n",
            "7/7 [==============================] - 2s 295ms/step - loss: 1.7756 - acc: 0.3704\n",
            "Epoch 4/12\n",
            "7/7 [==============================] - 3s 359ms/step - loss: 1.6416 - acc: 0.7037\n",
            "Epoch 5/12\n",
            "7/7 [==============================] - 3s 359ms/step - loss: 1.4527 - acc: 0.7037\n",
            "Epoch 6/12\n",
            "7/7 [==============================] - 3s 355ms/step - loss: 1.4983 - acc: 0.6667\n",
            "Epoch 7/12\n",
            "7/7 [==============================] - 3s 359ms/step - loss: 0.3004 - acc: 0.9630\n",
            "Epoch 8/12\n",
            "7/7 [==============================] - 3s 355ms/step - loss: 7.9308 - acc: 0.4815\n",
            "Epoch 9/12\n",
            "7/7 [==============================] - 3s 358ms/step - loss: 2.5164 - acc: 0.7037\n",
            "Epoch 10/12\n",
            "7/7 [==============================] - 2s 355ms/step - loss: 1.4302 - acc: 0.8148\n",
            "Epoch 11/12\n",
            "7/7 [==============================] - 3s 358ms/step - loss: 6.4766 - acc: 0.6667\n",
            "Epoch 12/12\n",
            "7/7 [==============================] - 3s 384ms/step - loss: 3.4992 - acc: 0.8148\n"
          ]
        }
      ],
      "source": [
        "history = model.fit(train_dataset, epochs=12)"
      ]
    },
    {
      "cell_type": "code",
      "execution_count": 95,
      "metadata": {
        "id": "Wuvwa7oy3nZL"
      },
      "outputs": [],
      "source": [
        "def findName(ee):\n",
        "  if ee==0:\n",
        "    return \"Mohit\"\n",
        "  if ee==1:\n",
        "    return \"Sahil\"\n",
        "  if ee==2:\n",
        "    return \"Sarthak\""
      ]
    },
    {
      "cell_type": "code",
      "execution_count": 96,
      "metadata": {
        "colab": {
          "base_uri": "https://localhost:8080/"
        },
        "id": "JEcFqE0vvs5M",
        "outputId": "0e1acfd3-11a4-44b7-9d35-3a997f3c9ca0"
      },
      "outputs": [
        {
          "name": "stdout",
          "output_type": "stream",
          "text": [
            "1/1 [==============================] - 0s 355ms/step - loss: 2.4459 - acc: 0.8519\n"
          ]
        },
        {
          "data": {
            "text/plain": [
              "[2.445878505706787, 0.8518518805503845]"
            ]
          },
          "execution_count": 96,
          "metadata": {},
          "output_type": "execute_result"
        }
      ],
      "source": [
        "model.evaluate(images, label)"
      ]
    },
    {
      "cell_type": "code",
      "execution_count": 97,
      "metadata": {
        "colab": {
          "base_uri": "https://localhost:8080/"
        },
        "id": "XRgiQ9HB20dI",
        "outputId": "467fe8bc-9b99-45a1-e3d0-a8bd237144a4"
      },
      "outputs": [
        {
          "name": "stdout",
          "output_type": "stream",
          "text": [
            "1/1 [==============================] - 0s 341ms/step\n"
          ]
        }
      ],
      "source": [
        "ans = [findName(np.argmax(i)) for i in model.predict(images)]"
      ]
    },
    {
      "cell_type": "code",
      "execution_count": 98,
      "metadata": {
        "colab": {
          "base_uri": "https://localhost:8080/"
        },
        "id": "tnLXwQDn3jS9",
        "outputId": "a46ff58c-5146-413a-e219-d4c07c45b1d1"
      },
      "outputs": [
        {
          "data": {
            "text/plain": [
              "['Mohit',\n",
              " 'Sarthak',\n",
              " 'Sarthak',\n",
              " 'Sarthak',\n",
              " 'Mohit',\n",
              " 'Sarthak',\n",
              " 'Mohit',\n",
              " 'Mohit',\n",
              " 'Sahil',\n",
              " 'Sahil',\n",
              " 'Sahil',\n",
              " 'Sahil',\n",
              " 'Sahil',\n",
              " 'Sahil',\n",
              " 'Sahil',\n",
              " 'Sahil',\n",
              " 'Sahil',\n",
              " 'Sahil',\n",
              " 'Sarthak',\n",
              " 'Sarthak',\n",
              " 'Sarthak',\n",
              " 'Sarthak',\n",
              " 'Sarthak',\n",
              " 'Sarthak',\n",
              " 'Sarthak',\n",
              " 'Sarthak',\n",
              " 'Sarthak']"
            ]
          },
          "execution_count": 98,
          "metadata": {},
          "output_type": "execute_result"
        }
      ],
      "source": [
        "ans"
      ]
    },
    {
      "cell_type": "code",
      "execution_count": 94,
      "metadata": {
        "colab": {
          "base_uri": "https://localhost:8080/"
        },
        "id": "grAqRStwxJzm",
        "outputId": "45c5e237-a5a6-4800-8875-94d9a470e869"
      },
      "outputs": [
        {
          "data": {
            "text/plain": [
              "array([[2., 0., 0.],\n",
              "       [2., 0., 0.],\n",
              "       [2., 0., 0.],\n",
              "       [2., 0., 0.],\n",
              "       [2., 0., 0.],\n",
              "       [2., 0., 0.],\n",
              "       [2., 0., 0.],\n",
              "       [2., 0., 0.],\n",
              "       [0., 2., 0.],\n",
              "       [0., 2., 0.],\n",
              "       [0., 2., 0.],\n",
              "       [0., 2., 0.],\n",
              "       [0., 2., 0.],\n",
              "       [0., 2., 0.],\n",
              "       [0., 2., 0.],\n",
              "       [0., 2., 0.],\n",
              "       [0., 2., 0.],\n",
              "       [0., 2., 0.],\n",
              "       [0., 0., 2.],\n",
              "       [0., 0., 2.],\n",
              "       [0., 0., 2.],\n",
              "       [0., 0., 2.],\n",
              "       [0., 0., 2.],\n",
              "       [0., 0., 2.],\n",
              "       [0., 0., 2.],\n",
              "       [0., 0., 2.],\n",
              "       [0., 0., 2.]])"
            ]
          },
          "execution_count": 94,
          "metadata": {},
          "output_type": "execute_result"
        }
      ],
      "source": [
        "label"
      ]
    }
  ],
  "metadata": {
    "accelerator": "GPU",
    "colab": {
      "provenance": []
    },
    "gpuClass": "standard",
    "kernelspec": {
      "display_name": "Python 3",
      "name": "python3"
    },
    "language_info": {
      "codemirror_mode": {
        "name": "ipython",
        "version": 3
      },
      "file_extension": ".py",
      "mimetype": "text/x-python",
      "name": "python",
      "nbconvert_exporter": "python",
      "pygments_lexer": "ipython3",
      "version": "3.10.7"
    }
  },
  "nbformat": 4,
  "nbformat_minor": 0
}
